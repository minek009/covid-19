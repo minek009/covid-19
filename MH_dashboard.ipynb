{
 "cells": [
  {
   "cell_type": "markdown",
   "metadata": {},
   "source": [
    "# DIY Disease Tracking Dashboard\n"
   ]
  },
  {
   "cell_type": "markdown",
   "metadata": {},
   "source": [
    "The dashboard presents daily reports of Covid-19 cases. It presents data for some of the largest cities in England, specifically: Manchester, Birmingham, Leeds, Liverpool, Sheffield, Leicester and Nottingham. You have the option of selecting each city one by one, multiple cities or summarised data of cases reported per day for all of the mentioned above. Please note that the initial graph that is displayed is data from a file, to access the most recent data, click on the \"refresh\" button and this will download the latest data by accessing an API."
   ]
  },
  {
   "cell_type": "code",
   "execution_count": 1,
   "metadata": {},
   "outputs": [],
   "source": [
    "from IPython.display import clear_output\n",
    "import ipywidgets as wdg\n",
    "import pandas as pd\n",
    "import numpy as np\n",
    "import matplotlib.pyplot as plt\n",
    "import requests\n",
    "import time\n",
    "import json\n",
    "from APIWrapper import APIwrapper\n",
    "import matplotlib.dates as mdates"
   ]
  },
  {
   "cell_type": "code",
   "execution_count": 2,
   "metadata": {},
   "outputs": [],
   "source": [
    "%matplotlib inline\n",
    "# make figures larger\n",
    "plt.rcParams['figure.dpi'] = 100"
   ]
  },
  {
   "cell_type": "code",
   "execution_count": 3,
   "metadata": {},
   "outputs": [],
   "source": [
    "jsondata = {}\n",
    "#loads saved file to generate initial graph\n",
    "with open(\"daily_cases_cities.json\", \"rt\") as INFILE:\n",
    "    jsondata = json.load(INFILE)"
   ]
  },
  {
   "cell_type": "code",
   "execution_count": 4,
   "metadata": {},
   "outputs": [],
   "source": [
    "df = None # data will be stored in here\n",
    "def wrangle_data(rawdata): \n",
    "    global df\n",
    "    \"\"\"Process raw API or JSON data into a structured DataFrame.\"\"\"\n",
    "    # Temporary dictionary to organize data by date and city\n",
    "    data = {}\n",
    "    for city, dataset in rawdata.items():\n",
    "        for entry in dataset:\n",
    "            date = entry['date']\n",
    "            value = entry['metric_value']\n",
    "\n",
    "            if date not in data:\n",
    "                data[date] = {}\n",
    "            data[date][city] = value\n",
    "\n",
    "    dates = sorted(data.keys())\n",
    "    #creates data frame sorting by date\n",
    "    df = pd.DataFrame(index=pd.to_datetime(dates))\n",
    "    # Populate the DataFrame with the case data for each city\n",
    "    for date, city_data in data.items():\n",
    "        for city, value in city_data.items():\n",
    "            df.loc[pd.to_datetime(date), city] = value\n",
    "\n",
    "    df.fillna(0.0, inplace=True)\n",
    "    df['Total Cases'] = df.sum(axis=1)\n",
    "    return df"
   ]
  },
  {
   "cell_type": "code",
   "execution_count": 5,
   "metadata": {},
   "outputs": [],
   "source": [
    "# Place your API access code in this function. Do not call this function directly; it will be called by \n",
    "# the button callback. \n",
    "def access_api():\n",
    "    \"\"\"Fetch data from UKHSA API and return structured data.\"\"\"\n",
    "    geography = [\"Manchester\", \"Birmingham\", \"Leeds\", \"Liverpool\", \"Sheffield\", \"Leicester\", \"Nottingham\"]\n",
    "    structure = {\n",
    "        \"theme\": \"infectious_disease\",\n",
    "        \"sub_theme\": \"respiratory\",\n",
    "        \"topic\": \"COVID-19\",\n",
    "        \"geography_type\": \"Upper%20Tier%20Local%20Authority\",\n",
    "        \"metric\": \"COVID-19_cases_casesByDay\",\n",
    "    }\n",
    "    all_city_data = {}\n",
    "    #iteration over each city data, fetches it and stores returning as aggregated data\n",
    "    try:\n",
    "        for city in geography:\n",
    "            structure[\"geography\"] = city\n",
    "            try:\n",
    "                api = APIwrapper(**structure)\n",
    "                city_data = api.get_all_pages({})\n",
    "                if city_data:\n",
    "                    all_city_data[city] = [\n",
    "                        {\"date\": entry[\"date\"], \"metric_value\": entry[\"metric_value\"]}\n",
    "                        for entry in city_data\n",
    "                    ]\n",
    "            except Exception as e:\n",
    "                continue\n",
    "        return all_city_data\n",
    "    except Exception as e:\n",
    "        return {}"
   ]
  },
  {
   "cell_type": "code",
   "execution_count": 6,
   "metadata": {},
   "outputs": [
    {
     "data": {
      "application/vnd.jupyter.widget-view+json": {
       "model_id": "38eb485b06ce47a38a0df80e2ce7e4bc",
       "version_major": 2,
       "version_minor": 0
      },
      "text/plain": [
       "Button(button_style='success', description='Refresh', icon='download', style=ButtonStyle(), tooltip='Fetch the…"
      ]
     },
     "metadata": {},
     "output_type": "display_data"
    },
    {
     "data": {
      "application/vnd.jupyter.widget-view+json": {
       "model_id": "d3610a853a2e4d32ae64521374767095",
       "version_major": 2,
       "version_minor": 0
      },
      "text/plain": [
       "SelectMultiple(description='Cities', index=(0,), options=('Total Cases', 'Manchester', 'Birmingham', 'Leeds', …"
      ]
     },
     "metadata": {},
     "output_type": "display_data"
    },
    {
     "data": {
      "application/vnd.jupyter.widget-view+json": {
       "model_id": "c70fa97a8c414d888d5a1c310a62fc47",
       "version_major": 2,
       "version_minor": 0
      },
      "text/plain": [
       "Output()"
      ]
     },
     "metadata": {},
     "output_type": "display_data"
    }
   ],
   "source": [
    "def plot_cases(selected_cities):    \n",
    "    \"\"\"Plot daily COVID-19 cases for the selected cities.\n",
    "    This function generates a line plot for the specified cities, using data from dataframe.\"\"\"\n",
    "    \n",
    "    global df\n",
    "    # this ensure is total cases exists, otherwise cases are summed and this exist, due to issues with refresh this was added in\n",
    "    if 'Total Cases' not in df.columns:\n",
    "        df['Total Cases'] = df.sum(axis=1)\n",
    "    \n",
    "    columns_to_plot = [col for col in selected_cities if col in df.columns]\n",
    "    if not columns_to_plot:\n",
    "        columns_to_plot = [\"Total Cases\"]\n",
    "\n",
    "    plt.figure(figsize=(20, 8))\n",
    "    ax = df[columns_to_plot].plot(ax=plt.gca(), lw=2)\n",
    "    ax.set_title(\"Daily COVID-19 Cases\", fontsize=16)\n",
    "    ax.set_xlabel(\"Date\", fontsize=14)\n",
    "    ax.set_ylabel(\"Daily Cases\", fontsize=14)\n",
    "    ax.grid(True, linestyle=\"--\", alpha=0.5)\n",
    "    ax.xaxis.set_major_formatter(mdates.DateFormatter(\"%Y-%m-%d\"))\n",
    "    ax.xaxis.set_major_locator(mdates.MonthLocator())\n",
    "    plt.xticks(rotation=45)\n",
    "    ax.legend(title=\"Cities\", bbox_to_anchor=(1.05, 1), loc=\"upper left\")\n",
    "    plt.tight_layout()\n",
    "    plt.show()\n",
    "\n",
    "\n",
    "def refresh_graph(selected_cities=None):\n",
    "    \"\"\" refreshes the graph, set total cases as default view until user changes it\"\"\"\n",
    "    if not selected_cities:\n",
    "        selected_cities = [\"Total Cases\"]\n",
    "    plot_cases(selected_cities)\n",
    "\n",
    "last_fetched_data = None\n",
    "#\n",
    "def api_button_callback(button):\n",
    "    \"\"\"Callback function for the API refresh button.\n",
    "    This function is triggered when the \"Refresh\" button is clicked. It fetches new data from the API,\n",
    "    updates the global JSON data and DataFrame, refreshes the widget options, and updates the graph.\"\"\"\n",
    "    global jsondata, df\n",
    "    try:\n",
    "        apidata = access_api()\n",
    "        if apidata:\n",
    "            jsondata.update(apidata)\n",
    "            df = wrangle_data(jsondata)\n",
    "            city_widget.options = [\"Total Cases\"] + [col for col in df.columns if col != \"Total Cases\"]\n",
    "            refresh_graph(city_widget.value)\n",
    "            apibutton.icon = \"check\"\n",
    "            apibutton.description = \"Data Refreshed\"\n",
    "        else:\n",
    "            raise ValueError(\"No data returned from API.\")\n",
    "    except Exception as e:\n",
    "        apibutton.icon = \"times\"\n",
    "        apibutton.description = \"Error Fetching Data\"\n",
    "\n",
    "# refresh button widget\n",
    "apibutton = wdg.Button(\n",
    "    description=\"Refresh\",\n",
    "    disabled=False,\n",
    "    button_style=\"success\",\n",
    "    tooltip=\"Fetch the latest data\",\n",
    "    icon=\"download\",\n",
    ")\n",
    "apibutton.on_click(api_button_callback)\n",
    "# widget for selection of cities and total cases between them\n",
    "city_widget = wdg.SelectMultiple(\n",
    "    options=[\"Total Cases\"] + [col for col in wrangle_data(jsondata).columns if col != \"Total Cases\"],\n",
    "    value=[\"Total Cases\"],\n",
    "    description=\"Cities\",\n",
    "    disabled=False,\n",
    ")\n",
    "\n",
    "graph_output = wdg.interactive_output(\n",
    "    refresh_graph,\n",
    "    {\"selected_cities\": city_widget},\n",
    ")\n",
    "\n",
    "# Display Widgets\n",
    "display(apibutton, city_widget, graph_output)\n"
   ]
  },
  {
   "cell_type": "markdown",
   "metadata": {},
   "source": [
    "## Deploying the dashboard\n",
    "\n",
    "Once your code is ready and you are satisfied with the appearance of the graphs, replace all the text boxes above with the explanations you would like a dashboard user to see. The next step is deploying the dashboard online - there are several [options](https://voila.readthedocs.io/en/stable/deploy.html) for this, we suggest deploying as a [Binder](https://mybinder.org/). This is basically the same technique that has been used to package this tutorial and to deploy this template dashboard. The instructions may seem a bit involved, but the actual steps are surprisingly easy - we will be going through them together during a live session. You will need an account on [GitHub](https://github.com/) for this - if you don't have one already, now it's the time to create it. "
   ]
  },
  {
   "cell_type": "markdown",
   "metadata": {},
   "source": [
    "**Author and License** Remember that if you deploy your dashboard as a Binder it will be publicly accessible. Change the copyright notice and take credit for your work! Also acknowledge your sources and the conditions of the license by including this notice: \"Based on UK Government [data](https://ukhsa-dashboard.data.gov.uk/) published by the [UK Health Security Agency](https://www.gov.uk/government/organisations/uk-health-security-agency) and on the [DIY Disease Tracking Dashboard Kit](https://github.com/fsmeraldi/diy-covid19dash) by Fabrizio Smeraldi. Released under the [GNU GPLv3.0 or later](https://www.gnu.org/licenses/).\""
   ]
  }
 ],
 "metadata": {
  "kernelspec": {
   "display_name": "Python 3 (ipykernel)",
   "language": "python",
   "name": "python3"
  },
  "language_info": {
   "codemirror_mode": {
    "name": "ipython",
    "version": 3
   },
   "file_extension": ".py",
   "mimetype": "text/x-python",
   "name": "python",
   "nbconvert_exporter": "python",
   "pygments_lexer": "ipython3",
   "version": "3.11.9"
  }
 },
 "nbformat": 4,
 "nbformat_minor": 4
}
